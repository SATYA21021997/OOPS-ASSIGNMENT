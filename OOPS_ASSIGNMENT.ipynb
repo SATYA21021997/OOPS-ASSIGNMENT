{
  "nbformat": 4,
  "nbformat_minor": 0,
  "metadata": {
    "colab": {
      "provenance": []
    },
    "kernelspec": {
      "name": "python3",
      "display_name": "Python 3"
    },
    "language_info": {
      "name": "python"
    }
  },
  "cells": [
    {
      "cell_type": "markdown",
      "source": [
        "ANSWER"
      ],
      "metadata": {
        "id": "OZzu_TDKhhbI"
      }
    },
    {
      "cell_type": "markdown",
      "source": [
        "1.  What is Object-Oriented Programming (OOP)?\n"
      ],
      "metadata": {
        "id": "IIdDvp1OhzYY"
      }
    },
    {
      "cell_type": "markdown",
      "source": [
        "ANS - Object-Oriented Programming (OOP) is a programming paradigm based on the concept of objects, which can contain both data (fields or attributes) and behavior (methods or functions)."
      ],
      "metadata": {
        "id": "_2Bvy68gi48I"
      }
    },
    {
      "cell_type": "markdown",
      "source": [
        "2.  What is a class in OOP?\n"
      ],
      "metadata": {
        "id": "_jFCvGdii8NC"
      }
    },
    {
      "cell_type": "markdown",
      "source": [
        "ANS - In Object-Oriented Programming (OOP), a class is a blueprint or template for creating objects. It defines the structure and behavior that the objects (instances of the class) will have."
      ],
      "metadata": {
        "id": "dN8gcX6FjHQ6"
      }
    },
    {
      "cell_type": "markdown",
      "source": [
        "3.  What is an object in OOP?\n"
      ],
      "metadata": {
        "id": "bFP1okynjJQJ"
      }
    },
    {
      "cell_type": "markdown",
      "source": [
        "ANS - In Object-Oriented Programming (OOP), an object is an instance of a class"
      ],
      "metadata": {
        "id": "RCZmH-UDjNhh"
      }
    },
    {
      "cell_type": "markdown",
      "source": [
        "4.  What is the difference between abstraction and encapsulation?\n"
      ],
      "metadata": {
        "id": "tpS13uYqjY9R"
      }
    },
    {
      "cell_type": "markdown",
      "source": [
        "ANS -\n",
        "ABSTRACTION - Hiding implementation details and showing only the essential features.\n",
        "ENCAPSULATION - Bundling data (attributes) and methods (functions) together in a single unit (class) and restricting direct access to some of them."
      ],
      "metadata": {
        "id": "4RmpqYw-jxWo"
      }
    },
    {
      "cell_type": "markdown",
      "source": [
        "5.  What are dunder methods in Python?\n"
      ],
      "metadata": {
        "id": "lmLXOhUSlDYB"
      }
    },
    {
      "cell_type": "markdown",
      "source": [
        "ANS - Dunder methods means double underscore methods in Python, also called magic methods or special methods, are predefined methods surrounded by double underscores."
      ],
      "metadata": {
        "id": "sxIX_HhjlJXS"
      }
    },
    {
      "cell_type": "markdown",
      "source": [
        "6.  Explain the concept of inheritance in OOP.\n"
      ],
      "metadata": {
        "id": "eEKTi-Kklgzq"
      }
    },
    {
      "cell_type": "markdown",
      "source": [
        "ANS - Inheritance is a fundamental concept in Object-Oriented Programming (OOP) that allows one class (called the child class or subclass) to derive or inherit properties and behaviors from another class (called the parent class or superclass)."
      ],
      "metadata": {
        "id": "hNQMHcLHlnHy"
      }
    },
    {
      "cell_type": "markdown",
      "source": [
        "7.  What is polymorphism in OOP?\n"
      ],
      "metadata": {
        "id": "zmlUg7v6lz0i"
      }
    },
    {
      "cell_type": "markdown",
      "source": [
        "ANS - Polymorphism in Object-Oriented Programming (OOP) is the ability of an object to take on many forms. It allows methods or operations to behave differently based on the context, such as the object or data type they are acting upon."
      ],
      "metadata": {
        "id": "55gSxT8EmCOo"
      }
    },
    {
      "cell_type": "markdown",
      "source": [
        "8.  How is encapsulation achieved in Python?\n"
      ],
      "metadata": {
        "id": "gUOBOsh9mE3r"
      }
    },
    {
      "cell_type": "markdown",
      "source": [
        "ANS - Encapsulation in Python is achieved by restricting access to certain attributes and methods of an object and exposing a controlled interface for interaction. This is done by defining public, protected, and private members within a class. Python provides features like access modifiers, properties, and getter/setter methods to implement encapsulation effectively."
      ],
      "metadata": {
        "id": "mu1ZfErzmKzi"
      }
    },
    {
      "cell_type": "markdown",
      "source": [
        "9.  What is a constructor in Python?\n"
      ],
      "metadata": {
        "id": "IWqXjNEHmwya"
      }
    },
    {
      "cell_type": "markdown",
      "source": [
        "ANS - In Python, a constructor is a special method that is automatically called when an object of a class is created. The primary purpose of a constructor is to initialize the attributes (data members) of the class and set up the object in a valid state."
      ],
      "metadata": {
        "id": "VQjiC3mgnYTs"
      }
    },
    {
      "cell_type": "markdown",
      "source": [
        "10.  What are class and static methods in Python?\n"
      ],
      "metadata": {
        "id": "UVghY34QnbgC"
      }
    },
    {
      "cell_type": "markdown",
      "source": [
        "ANS - In Python, class methods and static methods are special methods that differ in their behavior and use compared to regular instance methods. They are defined using decorators and have specific purposes in object-oriented programming."
      ],
      "metadata": {
        "id": "BqPq7F6knoWb"
      }
    },
    {
      "cell_type": "markdown",
      "source": [
        "11.  What is method overloading in Python?\n"
      ],
      "metadata": {
        "id": "vgRdXSH1nqHK"
      }
    },
    {
      "cell_type": "markdown",
      "source": [
        "ANS - Method overloading in Python refers to the ability of a class to define multiple methods with the same name but with different parameters. This allows a single method name to perform different types of operations depending on the input arguments."
      ],
      "metadata": {
        "id": "BqpY0mQ8n1cE"
      }
    },
    {
      "cell_type": "markdown",
      "source": [
        "12.  What is method overriding in OOP?\n"
      ],
      "metadata": {
        "id": "DjIMvc6Ln3wy"
      }
    },
    {
      "cell_type": "markdown",
      "source": [
        "ANS - Method overriding in Object-Oriented Programming (OOP) refers to the process where a subclass provides a specific implementation of a method that is already defined in its parent class. The overridden method in the subclass has the same name, parameters, and return type as the method in the parent class."
      ],
      "metadata": {
        "id": "gBk0r2XdoVbF"
      }
    },
    {
      "cell_type": "markdown",
      "source": [
        "13.  What is a property decorator in Python?\n"
      ],
      "metadata": {
        "id": "PCklZb_UoXp6"
      }
    },
    {
      "cell_type": "markdown",
      "source": [
        "ANS - The property decorator in Python is used to define a getter method for a class attribute in a way that makes it accessible like a regular attribute while still allowing for control over how the value is retrieved, computed, or validated."
      ],
      "metadata": {
        "id": "Q239NMi2ogwc"
      }
    },
    {
      "cell_type": "markdown",
      "source": [
        "14.  Why is polymorphism important in OOP?\n"
      ],
      "metadata": {
        "id": "5h2cKlRTowmc"
      }
    },
    {
      "cell_type": "markdown",
      "source": [
        "ANS - Polymorphism is a fundamental concept in Object-Oriented Programming (OOP) that allows objects of different classes to be treated as objects of a common superclass. It is important because it promotes flexibility, extensibility, and code reusability by enabling a unified interface to handle different types of objects."
      ],
      "metadata": {
        "id": "Ucby2gheo7QS"
      }
    },
    {
      "cell_type": "markdown",
      "source": [
        "15.  What is an abstract class in Python?\n"
      ],
      "metadata": {
        "id": "UPrdcaQKpFnK"
      }
    },
    {
      "cell_type": "markdown",
      "source": [
        "ANS - An abstract class in Python is a class that cannot be instantiated directly. It serves as a blueprint for other classes and is used to define a common interface for its subclasses. Abstract classes are particularly useful for enforcing that derived classes implement certain methods."
      ],
      "metadata": {
        "id": "tm8zQBfKpLP7"
      }
    },
    {
      "cell_type": "markdown",
      "source": [
        "16.  What are the advantages of OOP?\n"
      ],
      "metadata": {
        "id": "x6ejbUy9pUM7"
      }
    },
    {
      "cell_type": "markdown",
      "source": [
        "ANS - OOP is a powerful paradigm that improves software development by promoting modularity, reuse, scalability, and maintainability. While it requires some upfront planning and understanding, the long-term benefits make it a preferred choice for building robust and scalable applications."
      ],
      "metadata": {
        "id": "wbSd6A7Fqsjj"
      }
    },
    {
      "cell_type": "markdown",
      "source": [
        "17.  What is the difference between a class variable and an instance variable?"
      ],
      "metadata": {
        "id": "GlbijvdZq_e7"
      }
    },
    {
      "cell_type": "markdown",
      "source": [
        "ANS - Class Variables are shared among all instances and are used for data or functionality common to all objects of a class.\n",
        "Instance Variables are unique to each object and hold data specific to that object."
      ],
      "metadata": {
        "id": "9nGELr8jrHWz"
      }
    },
    {
      "cell_type": "markdown",
      "source": [
        "18.  What is multiple inheritance in Python?"
      ],
      "metadata": {
        "id": "fPnybrJVrZu7"
      }
    },
    {
      "cell_type": "markdown",
      "source": [
        "ANS - Multiple inheritance in Python is a feature where a class can inherit attributes and methods from more than one parent class. This allows the derived (child) class to combine and utilize functionality from multiple base (parent) classes."
      ],
      "metadata": {
        "id": "oaxfEhEqrfz0"
      }
    },
    {
      "cell_type": "markdown",
      "source": [
        "19.  Explain the purpose of ‘’__str__’ and ‘__repr__’ ‘ methods in Python\n"
      ],
      "metadata": {
        "id": "xDndveExrpIU"
      }
    },
    {
      "cell_type": "markdown",
      "source": [
        "ANS - In Python, the __str__ and __repr__ methods are special methods (also called \"dunder methods\") that allow you to define how an object should be represented as a string. They are primarily used to provide readable and debug-friendly string representations of objects."
      ],
      "metadata": {
        "id": "47q_LbB7r1YL"
      }
    },
    {
      "cell_type": "markdown",
      "source": [
        "20.  What is the significance of the ‘super()’ function in Python?\n"
      ],
      "metadata": {
        "id": "Zx90kybKsCyU"
      }
    },
    {
      "cell_type": "markdown",
      "source": [
        "ANS - The super() function in Python is used to access methods and properties of a parent class (or superclass) from within a child class. It provides a convenient way to extend or override functionality in a derived class while maintaining access to the original implementation from the base class."
      ],
      "metadata": {
        "id": "59-M6FTHsN1y"
      }
    },
    {
      "cell_type": "markdown",
      "source": [
        "21.  What is the significance of the __del__ method in Python?"
      ],
      "metadata": {
        "id": "R5x9joXasQQE"
      }
    },
    {
      "cell_type": "markdown",
      "source": [
        "ANS - The __del__ method in Python is a special method, also known as a destructor, that is called when an object is about to be destroyed. Its primary purpose is to allow cleanup actions, such as releasing resources or performing other finalization tasks, when an object is no longer needed."
      ],
      "metadata": {
        "id": "iVqCAVsosk6d"
      }
    },
    {
      "cell_type": "markdown",
      "source": [
        "22.  What is the difference between @staticmethod and @classmethod in Python?\n"
      ],
      "metadata": {
        "id": "AWnm2seesteL"
      }
    },
    {
      "cell_type": "markdown",
      "source": [
        "ANS - In Python, @staticmethod and @classmethod are decorators used to define methods that are not tied to a specific instance of a class. However, they differ in how they interact with the class itself and its instances."
      ],
      "metadata": {
        "id": "KIpuFbF2syu8"
      }
    },
    {
      "cell_type": "markdown",
      "source": [
        "23.  How does polymorphism work in Python with inheritance?\n"
      ],
      "metadata": {
        "id": "aax0faVrtspG"
      }
    },
    {
      "cell_type": "markdown",
      "source": [
        "ANS - Polymorphism is a key concept in Object-Oriented Programming (OOP) that allows objects of different classes to be treated as objects of a common superclass. It enables a single interface to handle different types of objects. In Python, polymorphism works seamlessly with inheritance, allowing child classes to override methods from their parent classes and enabling consistent behavior across different types."
      ],
      "metadata": {
        "id": "4H6Ncoj7UyM2"
      }
    },
    {
      "cell_type": "markdown",
      "source": [
        "24.  What is method chaining in Python OOP?"
      ],
      "metadata": {
        "id": "3xJXyIbHU7zX"
      }
    },
    {
      "cell_type": "markdown",
      "source": [
        "ANS - Method chaining is a programming technique where multiple methods are called on the same object in a single statement. Each method in the chain returns the object itself (usually self), allowing the subsequent method to be called directly. This approach is commonly used to make code more concise and readable."
      ],
      "metadata": {
        "id": "jmNks0jFVAEm"
      }
    },
    {
      "cell_type": "markdown",
      "source": [
        "25.  What is the purpose of the __call__ method in Python?\n"
      ],
      "metadata": {
        "id": "YOVNqWG2VKLW"
      }
    },
    {
      "cell_type": "markdown",
      "source": [
        "ANS - The __call__ method in Python allows an instance of a class to be called as if it were a function. By defining the __call__ method in a class, you enable objects of that class to behave like callable functions."
      ],
      "metadata": {
        "id": "BlYI0hbtVN1N"
      }
    },
    {
      "cell_type": "code",
      "source": [],
      "metadata": {
        "id": "unmctBrGVgQ-"
      },
      "execution_count": null,
      "outputs": []
    },
    {
      "cell_type": "code",
      "source": [],
      "metadata": {
        "id": "gs526vTIVgFU"
      },
      "execution_count": null,
      "outputs": []
    },
    {
      "cell_type": "markdown",
      "source": [
        "PRACTICAL QUESTIONS"
      ],
      "metadata": {
        "id": "fEcDQjm7VWLU"
      }
    },
    {
      "cell_type": "code",
      "source": [],
      "metadata": {
        "id": "xrtAuqwTVjUV"
      },
      "execution_count": null,
      "outputs": []
    },
    {
      "cell_type": "code",
      "source": [],
      "metadata": {
        "id": "1aOV4ZSUVjIl"
      },
      "execution_count": null,
      "outputs": []
    },
    {
      "cell_type": "markdown",
      "source": [
        " 1. Create a parent class Animal with a method speak() that prints a generic message. Create a child class Dog\n",
        "that overrides the speak() method to print \"Bark!\""
      ],
      "metadata": {
        "id": "l3dxWZ2tVaPV"
      }
    },
    {
      "cell_type": "code",
      "source": [
        "class Animal:\n",
        "    def speak(self):\n",
        "        print(\"The animal speaks.\")\n",
        "\n",
        "class Dog(Animal):\n",
        "    def speak(self):\n",
        "        print(\"The dog barks!\")"
      ],
      "metadata": {
        "id": "sMaWn_sTVuKu"
      },
      "execution_count": 1,
      "outputs": []
    },
    {
      "cell_type": "code",
      "source": [],
      "metadata": {
        "id": "Bg0FOqKQW7WO"
      },
      "execution_count": null,
      "outputs": []
    },
    {
      "cell_type": "markdown",
      "source": [
        "2.  2. Write a program to create an abstract class Shape with a method area(). Derive classes Circle and Rectangle\n",
        "from it and implement the area() method in both"
      ],
      "metadata": {
        "id": "SIXbJbKpW8uv"
      }
    },
    {
      "cell_type": "code",
      "source": [
        "class Shape:\n",
        "  def area(self):\n",
        "    pass\n",
        "\n",
        "class Circle(Shape):\n",
        "  def area(self, radius):\n",
        "    return 3.14 * radius * radius\n",
        "\n",
        "class Rectangle(Shape):\n",
        "  def area(self, length, width):\n",
        "    return length * width"
      ],
      "metadata": {
        "id": "ortqoPrNXAXA"
      },
      "execution_count": 9,
      "outputs": []
    },
    {
      "cell_type": "code",
      "source": [],
      "metadata": {
        "id": "Pv_pX2fiXwtO"
      },
      "execution_count": null,
      "outputs": []
    },
    {
      "cell_type": "markdown",
      "source": [
        "3. Implement a multi-level inheritance scenario where a class Vehicle has an attribute type. Derive a class Car\n",
        "and further derive a class ElectricCar that adds a battery **attribute**"
      ],
      "metadata": {
        "id": "Lzb7UvUKXyP4"
      }
    },
    {
      "cell_type": "code",
      "source": [
        "class Vehicle:\n",
        "    def __init__(self, type):\n",
        "        self.type = type\n",
        "\n",
        "class Car(Vehicle):\n",
        "    def __init__(self, type, model):\n",
        "        super().__init__(type)\n",
        "        self.model = model\n",
        "\n",
        "class ElectricCar(Car):\n",
        "    def __init__(self, type, model, battery):\n",
        "        super().__init__(type, model)\n",
        "        self.battery = battery"
      ],
      "metadata": {
        "id": "jYuT0a9VX5ft"
      },
      "execution_count": 14,
      "outputs": []
    },
    {
      "cell_type": "code",
      "source": [],
      "metadata": {
        "id": "T9_lyPymYSq_"
      },
      "execution_count": null,
      "outputs": []
    },
    {
      "cell_type": "markdown",
      "source": [
        "4.  4. Implement a multi-level inheritance scenario where a class Vehicle has an attribute type. Derive a class Car\n",
        "and further derive a class ElectricCar that adds a battery attribute"
      ],
      "metadata": {
        "id": "kCWwU6OoYUVg"
      }
    },
    {
      "cell_type": "code",
      "source": [
        "class Vehicle:\n",
        "    def __init__(self, type):\n",
        "        self.type = type\n",
        "\n",
        "class Car(Vehicle):\n",
        "    def __init__(self, type, model):\n",
        "        super().__init__(type)\n",
        "        self.model = model\n",
        "\n",
        "class ElectricCar(Car):\n",
        "    def __init__(self, type, model, battery):\n",
        "        super().__init__(type, model)\n",
        "        self.battery = battery"
      ],
      "metadata": {
        "id": "yCtE75NYYeT0"
      },
      "execution_count": null,
      "outputs": []
    },
    {
      "cell_type": "markdown",
      "source": [
        "5. Write a program to demonstrate encapsulation by creating a class BankAccount with private attributes\n",
        "balance and methods to deposit, withdraw, and check balance"
      ],
      "metadata": {
        "id": "yFosNMt9Yfum"
      }
    },
    {
      "cell_type": "code",
      "source": [
        "class BankAccount:\n",
        "    def __init__(self, balance):\n",
        "        self.__balance = balance\n",
        "\n",
        "    def deposit(self, amount):\n",
        "        self.__balance += amount\n",
        "\n",
        "    def withdraw(self, amount):\n",
        "        if self.__balance >= amount:\n",
        "            self.__balance -= amount\n",
        "        else:\n",
        "            print(\"Insufficient balance\")"
      ],
      "metadata": {
        "id": "Ear8lTawcR6Y"
      },
      "execution_count": 29,
      "outputs": []
    },
    {
      "cell_type": "markdown",
      "source": [
        " 6. Demonstrate runtime polymorphism using a method play() in a base class Instrument. Derive classes Guitar\n",
        "and Piano that implement their own version of play()"
      ],
      "metadata": {
        "id": "EEwloan2Y6wU"
      }
    },
    {
      "cell_type": "code",
      "source": [
        "class Instrument:\n",
        "    def play(self):\n",
        "        pass\n",
        "\n",
        "class Guitar(Instrument):\n",
        "    def play(self):\n",
        "        print(\"Guitar is playing\")\n",
        "\n",
        "class Piano(Instrument):\n",
        "    def play(self):\n",
        "        print(\"Piano is playing\")"
      ],
      "metadata": {
        "id": "QmgxhhO3Y98V"
      },
      "execution_count": null,
      "outputs": []
    },
    {
      "cell_type": "markdown",
      "source": [
        " 7. Create a class MathOperations with a class method add_numbers() to add two numbers and a static\n",
        "method subtract_numbers() to subtract two numbers"
      ],
      "metadata": {
        "id": "8ge5HadnZPqk"
      }
    },
    {
      "cell_type": "code",
      "source": [
        "class MathOperations:\n",
        "    @classmethod\n",
        "    def add_numbers(cls, a, b):\n",
        "        return a + b\n",
        "\n",
        "    @staticmethod\n",
        "    def subtract_numbers(a, b):\n",
        "        return a - b"
      ],
      "metadata": {
        "id": "yScQXtZoZSxV"
      },
      "execution_count": null,
      "outputs": []
    },
    {
      "cell_type": "markdown",
      "source": [
        " 8. Implement a class Person with a class method to count the total number of persons created."
      ],
      "metadata": {
        "id": "MLw0W5hvZf2T"
      }
    },
    {
      "cell_type": "code",
      "source": [
        "class Person:\n",
        "    count = 0\n",
        "\n",
        "    def __init__(self, name):\n",
        "        self.name = name\n",
        "        Person.count += 1\n",
        "\n",
        "    @classmethod\n",
        "    def get_count(cls):\n",
        "        return cls.count"
      ],
      "metadata": {
        "id": "Q-iuqQcwZknb"
      },
      "execution_count": null,
      "outputs": []
    },
    {
      "cell_type": "markdown",
      "source": [
        " 9. Write a class Fraction with attributes numerator and denominator. Override the str method to display the\n",
        "fraction as \"numerator/denominator\""
      ],
      "metadata": {
        "id": "x9CTqskMZqeL"
      }
    },
    {
      "cell_type": "code",
      "source": [
        "class Fraction:\n",
        "    def __init__(self, numerator, denominator):\n",
        "        self.numerator = numerator\n",
        "        self.denominator = denominator\n",
        "\n",
        "    def __str__(self):\n",
        "        return f\"{self.numerator}/{self.denominator}\""
      ],
      "metadata": {
        "id": "L5yBHLPIZvfr"
      },
      "execution_count": 16,
      "outputs": []
    },
    {
      "cell_type": "markdown",
      "source": [
        " 10. Demonstrate operator overloading by creating a class Vector and overriding the add method to add two\n",
        "vectors"
      ],
      "metadata": {
        "id": "5kVMoqkEaZUN"
      }
    },
    {
      "cell_type": "code",
      "source": [
        "class Vector:\n",
        "    def __init__(self, x, y):\n",
        "        self.x = x\n",
        "        self.y = y\n",
        "\n",
        "    def __add__(self, other):\n",
        "        return Vector(self.x + other.x, self.y + other.y)"
      ],
      "metadata": {
        "id": "xHf-_ujXaelu"
      },
      "execution_count": 17,
      "outputs": []
    },
    {
      "cell_type": "markdown",
      "source": [
        " 11. Create a class Person with attributes name and age. Add a method greet() that prints \"Hello, my name is\n",
        "{name} and I am {age} years old."
      ],
      "metadata": {
        "id": "0qhvwhtIak1G"
      }
    },
    {
      "cell_type": "code",
      "source": [
        "class Person:\n",
        "    def __init__(self, name, age):\n",
        "        self.name = name\n",
        "        self.age = age\n",
        "\n",
        "    def greet(self):\n",
        "        print(f\"Hello, my name is {self.name} and I am {self.age} years old.\")"
      ],
      "metadata": {
        "id": "-o4gD1KdcYgW"
      },
      "execution_count": 30,
      "outputs": []
    },
    {
      "cell_type": "markdown",
      "source": [
        " 12. Implement a class Student with attributes name and grades. Create a method average_grade() to compute\n",
        "the average of the grades"
      ],
      "metadata": {
        "id": "_yfloU71a-At"
      }
    },
    {
      "cell_type": "code",
      "source": [
        "class Student:\n",
        "    def __init__(self, name, grades):\n",
        "        self.name = name\n",
        "        self.grades = grades\n",
        "\n",
        "    def average_grade(self):\n",
        "        return sum(self.grades) / len(self.grades)"
      ],
      "metadata": {
        "id": "uufCn-hcccbG"
      },
      "execution_count": null,
      "outputs": []
    },
    {
      "cell_type": "markdown",
      "source": [
        " 13. Create a class Rectangle with methods set_dimensions() to set the dimensions and area() to calculate the\n",
        "area"
      ],
      "metadata": {
        "id": "B_LJGoqGbjdX"
      }
    },
    {
      "cell_type": "code",
      "source": [
        "class Rectangle:\n",
        "    def set_dimensions(self, length, width):\n",
        "        self.length = length\n",
        "        self.width = width\n",
        "\n",
        "    def area(self):\n",
        "        return self.length * self.width"
      ],
      "metadata": {
        "id": "TWKd3nv-bmeA"
      },
      "execution_count": null,
      "outputs": []
    },
    {
      "cell_type": "markdown",
      "source": [
        " 14. Create a class Employee with a method calculate_salary() that computes the salary based on hours worked\n",
        "and hourly rate. Create a derived class Manager that adds a bonus to the salary"
      ],
      "metadata": {
        "id": "jGFg6HYpbvmE"
      }
    },
    {
      "cell_type": "code",
      "source": [
        "class Employee:\n",
        "  def calculate_salary(self, hours_worked, hourly_rate):\n",
        "    return hours_worked * hourly_rate\n",
        "\n",
        "class Manager(Employee):\n",
        "  def calculate_salary(self, hours_worked, hourly_rate, bonus):\n",
        "    return super().calculate_salary(hours_worked, hourly_rate) + bonus"
      ],
      "metadata": {
        "id": "D72dPPQKbzNI"
      },
      "execution_count": 27,
      "outputs": []
    },
    {
      "cell_type": "markdown",
      "source": [
        "15. Create a class Product with attributes name, price, and quantity. Implement a method total_price() that\n",
        "calculates the total price of the product"
      ],
      "metadata": {
        "id": "UR8Ow9kycCim"
      }
    },
    {
      "cell_type": "code",
      "source": [
        "class Product:\n",
        "    def __init__(self, name, price, quantity):\n",
        "        self.name = name\n",
        "        self.price = price\n",
        "        self.quantity = quantity\n",
        "\n",
        "    def total_price(self):\n",
        "        return self.price * self.quantity"
      ],
      "metadata": {
        "id": "n6LUoOl6cfhX"
      },
      "execution_count": null,
      "outputs": []
    },
    {
      "cell_type": "markdown",
      "source": [
        " 16. Create a class Animal with an abstract method sound(). Create two derived classes Cow and Sheep that\n",
        "implement the sound() method"
      ],
      "metadata": {
        "id": "WFQOSkQJcLI1"
      }
    },
    {
      "cell_type": "code",
      "source": [
        "class Animal:\n",
        "    def sound(self):\n",
        "        pass\n",
        "\n",
        "class Cow(Animal):\n",
        "    def sound(self):\n",
        "        return \"Moo\"\n",
        "\n",
        "class Sheep(Animal):\n",
        "    def sound(self):\n",
        "        return \"Baa\""
      ],
      "metadata": {
        "id": "DyrV1Yk0clOu"
      },
      "execution_count": 31,
      "outputs": []
    },
    {
      "cell_type": "markdown",
      "source": [
        " 17. Create a class Book with attributes title, author, and year_published. Add a method get_book_info() that\n",
        "returns a formatted string with the book's details"
      ],
      "metadata": {
        "id": "IdpdpZbQeETH"
      }
    },
    {
      "cell_type": "code",
      "source": [
        "class Book:\n",
        "    def __init__(self, title, author, year_published):\n",
        "        self.title = title\n",
        "        self.author = author\n",
        "        self.year_published = year_published\n",
        "\n",
        "    def get_book_info(self):\n",
        "        return f\"{self.title} by {self.author} ({self.year_published})\""
      ],
      "metadata": {
        "id": "KYJ2dW6oeIxt"
      },
      "execution_count": 32,
      "outputs": []
    },
    {
      "cell_type": "markdown",
      "source": [
        "18. Create a class House with attributes address and price. Create a derived class Mansion that adds an\n",
        "attribute number_of_rooms."
      ],
      "metadata": {
        "id": "quKIXJGpeXSG"
      }
    },
    {
      "cell_type": "code",
      "source": [
        "class House:\n",
        "  def __init__(self, address, price):\n",
        "    self.address = address\n",
        "    self.price = price\n",
        "\n",
        "class Mansion(House):\n",
        "  def __init__(self, address, price, number_of_rooms):\n",
        "    super().__init__(address, price)\n",
        "    self.number_of_rooms = number_of_rooms"
      ],
      "metadata": {
        "id": "iemEdHVceadL"
      },
      "execution_count": null,
      "outputs": []
    }
  ]
}